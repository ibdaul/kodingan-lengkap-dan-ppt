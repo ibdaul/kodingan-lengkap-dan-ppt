{
  "cells": [
    {
      "cell_type": "code",
      "execution_count": null,
      "metadata": {
        "colab": {
          "base_uri": "https://localhost:8080/"
        },
        "id": "ALRZaxJhAumQ",
        "outputId": "ae456e74-0939-4c77-f523-2a2932263494"
      },
      "outputs": [
        {
          "output_type": "stream",
          "name": "stdout",
          "text": [
            "Requirement already satisfied: pyspark in /usr/local/lib/python3.11/dist-packages (3.5.1)\n",
            "Requirement already satisfied: pandas in /usr/local/lib/python3.11/dist-packages (2.2.2)\n",
            "Requirement already satisfied: xgboost in /usr/local/lib/python3.11/dist-packages (2.1.4)\n",
            "Requirement already satisfied: scikit-learn in /usr/local/lib/python3.11/dist-packages (1.6.1)\n",
            "Requirement already satisfied: matplotlib in /usr/local/lib/python3.11/dist-packages (3.10.0)\n",
            "Requirement already satisfied: seaborn in /usr/local/lib/python3.11/dist-packages (0.13.2)\n",
            "Collecting Sastrawi\n",
            "  Downloading Sastrawi-1.0.1-py2.py3-none-any.whl.metadata (909 bytes)\n",
            "Requirement already satisfied: nltk in /usr/local/lib/python3.11/dist-packages (3.9.1)\n",
            "Collecting streamlit\n",
            "  Downloading streamlit-1.46.1-py3-none-any.whl.metadata (9.0 kB)\n",
            "Requirement already satisfied: numpy in /usr/local/lib/python3.11/dist-packages (2.0.2)\n",
            "Requirement already satisfied: joblib in /usr/local/lib/python3.11/dist-packages (1.5.1)\n",
            "Requirement already satisfied: py4j==0.10.9.7 in /usr/local/lib/python3.11/dist-packages (from pyspark) (0.10.9.7)\n",
            "Requirement already satisfied: python-dateutil>=2.8.2 in /usr/local/lib/python3.11/dist-packages (from pandas) (2.9.0.post0)\n",
            "Requirement already satisfied: pytz>=2020.1 in /usr/local/lib/python3.11/dist-packages (from pandas) (2025.2)\n",
            "Requirement already satisfied: tzdata>=2022.7 in /usr/local/lib/python3.11/dist-packages (from pandas) (2025.2)\n",
            "Requirement already satisfied: nvidia-nccl-cu12 in /usr/local/lib/python3.11/dist-packages (from xgboost) (2.21.5)\n",
            "Requirement already satisfied: scipy in /usr/local/lib/python3.11/dist-packages (from xgboost) (1.15.3)\n",
            "Requirement already satisfied: threadpoolctl>=3.1.0 in /usr/local/lib/python3.11/dist-packages (from scikit-learn) (3.6.0)\n",
            "Requirement already satisfied: contourpy>=1.0.1 in /usr/local/lib/python3.11/dist-packages (from matplotlib) (1.3.2)\n",
            "Requirement already satisfied: cycler>=0.10 in /usr/local/lib/python3.11/dist-packages (from matplotlib) (0.12.1)\n",
            "Requirement already satisfied: fonttools>=4.22.0 in /usr/local/lib/python3.11/dist-packages (from matplotlib) (4.58.4)\n",
            "Requirement already satisfied: kiwisolver>=1.3.1 in /usr/local/lib/python3.11/dist-packages (from matplotlib) (1.4.8)\n",
            "Requirement already satisfied: packaging>=20.0 in /usr/local/lib/python3.11/dist-packages (from matplotlib) (24.2)\n",
            "Requirement already satisfied: pillow>=8 in /usr/local/lib/python3.11/dist-packages (from matplotlib) (11.2.1)\n",
            "Requirement already satisfied: pyparsing>=2.3.1 in /usr/local/lib/python3.11/dist-packages (from matplotlib) (3.2.3)\n",
            "Requirement already satisfied: click in /usr/local/lib/python3.11/dist-packages (from nltk) (8.2.1)\n",
            "Requirement already satisfied: regex>=2021.8.3 in /usr/local/lib/python3.11/dist-packages (from nltk) (2024.11.6)\n",
            "Requirement already satisfied: tqdm in /usr/local/lib/python3.11/dist-packages (from nltk) (4.67.1)\n",
            "Requirement already satisfied: altair<6,>=4.0 in /usr/local/lib/python3.11/dist-packages (from streamlit) (5.5.0)\n",
            "Requirement already satisfied: blinker<2,>=1.5.0 in /usr/local/lib/python3.11/dist-packages (from streamlit) (1.9.0)\n",
            "Requirement already satisfied: cachetools<7,>=4.0 in /usr/local/lib/python3.11/dist-packages (from streamlit) (5.5.2)\n",
            "Requirement already satisfied: protobuf<7,>=3.20 in /usr/local/lib/python3.11/dist-packages (from streamlit) (5.29.5)\n",
            "Requirement already satisfied: pyarrow>=7.0 in /usr/local/lib/python3.11/dist-packages (from streamlit) (18.1.0)\n",
            "Requirement already satisfied: requests<3,>=2.27 in /usr/local/lib/python3.11/dist-packages (from streamlit) (2.32.3)\n",
            "Requirement already satisfied: tenacity<10,>=8.1.0 in /usr/local/lib/python3.11/dist-packages (from streamlit) (8.5.0)\n",
            "Requirement already satisfied: toml<2,>=0.10.1 in /usr/local/lib/python3.11/dist-packages (from streamlit) (0.10.2)\n",
            "Requirement already satisfied: typing-extensions<5,>=4.4.0 in /usr/local/lib/python3.11/dist-packages (from streamlit) (4.14.0)\n",
            "Collecting watchdog<7,>=2.1.5 (from streamlit)\n",
            "  Downloading watchdog-6.0.0-py3-none-manylinux2014_x86_64.whl.metadata (44 kB)\n",
            "\u001b[2K     \u001b[90m━━━━━━━━━━━━━━━━━━━━━━━━━━━━━━━━━━━━━━━━\u001b[0m \u001b[32m44.3/44.3 kB\u001b[0m \u001b[31m2.7 MB/s\u001b[0m eta \u001b[36m0:00:00\u001b[0m\n",
            "\u001b[?25hRequirement already satisfied: gitpython!=3.1.19,<4,>=3.0.7 in /usr/local/lib/python3.11/dist-packages (from streamlit) (3.1.44)\n",
            "Collecting pydeck<1,>=0.8.0b4 (from streamlit)\n",
            "  Downloading pydeck-0.9.1-py2.py3-none-any.whl.metadata (4.1 kB)\n",
            "Requirement already satisfied: tornado!=6.5.0,<7,>=6.0.3 in /usr/local/lib/python3.11/dist-packages (from streamlit) (6.4.2)\n",
            "Requirement already satisfied: jinja2 in /usr/local/lib/python3.11/dist-packages (from altair<6,>=4.0->streamlit) (3.1.6)\n",
            "Requirement already satisfied: jsonschema>=3.0 in /usr/local/lib/python3.11/dist-packages (from altair<6,>=4.0->streamlit) (4.24.0)\n",
            "Requirement already satisfied: narwhals>=1.14.2 in /usr/local/lib/python3.11/dist-packages (from altair<6,>=4.0->streamlit) (1.44.0)\n",
            "Requirement already satisfied: gitdb<5,>=4.0.1 in /usr/local/lib/python3.11/dist-packages (from gitpython!=3.1.19,<4,>=3.0.7->streamlit) (4.0.12)\n",
            "Requirement already satisfied: six>=1.5 in /usr/local/lib/python3.11/dist-packages (from python-dateutil>=2.8.2->pandas) (1.17.0)\n",
            "Requirement already satisfied: charset-normalizer<4,>=2 in /usr/local/lib/python3.11/dist-packages (from requests<3,>=2.27->streamlit) (3.4.2)\n",
            "Requirement already satisfied: idna<4,>=2.5 in /usr/local/lib/python3.11/dist-packages (from requests<3,>=2.27->streamlit) (3.10)\n",
            "Requirement already satisfied: urllib3<3,>=1.21.1 in /usr/local/lib/python3.11/dist-packages (from requests<3,>=2.27->streamlit) (2.4.0)\n",
            "Requirement already satisfied: certifi>=2017.4.17 in /usr/local/lib/python3.11/dist-packages (from requests<3,>=2.27->streamlit) (2025.6.15)\n",
            "Requirement already satisfied: smmap<6,>=3.0.1 in /usr/local/lib/python3.11/dist-packages (from gitdb<5,>=4.0.1->gitpython!=3.1.19,<4,>=3.0.7->streamlit) (5.0.2)\n",
            "Requirement already satisfied: MarkupSafe>=2.0 in /usr/local/lib/python3.11/dist-packages (from jinja2->altair<6,>=4.0->streamlit) (3.0.2)\n",
            "Requirement already satisfied: attrs>=22.2.0 in /usr/local/lib/python3.11/dist-packages (from jsonschema>=3.0->altair<6,>=4.0->streamlit) (25.3.0)\n",
            "Requirement already satisfied: jsonschema-specifications>=2023.03.6 in /usr/local/lib/python3.11/dist-packages (from jsonschema>=3.0->altair<6,>=4.0->streamlit) (2025.4.1)\n",
            "Requirement already satisfied: referencing>=0.28.4 in /usr/local/lib/python3.11/dist-packages (from jsonschema>=3.0->altair<6,>=4.0->streamlit) (0.36.2)\n",
            "Requirement already satisfied: rpds-py>=0.7.1 in /usr/local/lib/python3.11/dist-packages (from jsonschema>=3.0->altair<6,>=4.0->streamlit) (0.25.1)\n",
            "Downloading Sastrawi-1.0.1-py2.py3-none-any.whl (209 kB)\n",
            "\u001b[2K   \u001b[90m━━━━━━━━━━━━━━━━━━━━━━━━━━━━━━━━━━━━━━━━\u001b[0m \u001b[32m209.7/209.7 kB\u001b[0m \u001b[31m8.4 MB/s\u001b[0m eta \u001b[36m0:00:00\u001b[0m\n",
            "\u001b[?25hDownloading streamlit-1.46.1-py3-none-any.whl (10.1 MB)\n",
            "\u001b[2K   \u001b[90m━━━━━━━━━━━━━━━━━━━━━━━━━━━━━━━━━━━━━━━━\u001b[0m \u001b[32m10.1/10.1 MB\u001b[0m \u001b[31m85.4 MB/s\u001b[0m eta \u001b[36m0:00:00\u001b[0m\n",
            "\u001b[?25hDownloading pydeck-0.9.1-py2.py3-none-any.whl (6.9 MB)\n",
            "\u001b[2K   \u001b[90m━━━━━━━━━━━━━━━━━━━━━━━━━━━━━━━━━━━━━━━━\u001b[0m \u001b[32m6.9/6.9 MB\u001b[0m \u001b[31m82.7 MB/s\u001b[0m eta \u001b[36m0:00:00\u001b[0m\n",
            "\u001b[?25hDownloading watchdog-6.0.0-py3-none-manylinux2014_x86_64.whl (79 kB)\n",
            "\u001b[2K   \u001b[90m━━━━━━━━━━━━━━━━━━━━━━━━━━━━━━━━━━━━━━━━\u001b[0m \u001b[32m79.1/79.1 kB\u001b[0m \u001b[31m5.1 MB/s\u001b[0m eta \u001b[36m0:00:00\u001b[0m\n",
            "\u001b[?25hInstalling collected packages: Sastrawi, watchdog, pydeck, streamlit\n",
            "Successfully installed Sastrawi-1.0.1 pydeck-0.9.1 streamlit-1.46.1 watchdog-6.0.0\n"
          ]
        }
      ],
      "source": [
        "!pip install pyspark pandas xgboost scikit-learn matplotlib seaborn Sastrawi nltk streamlit numpy joblib\n"
      ]
    },
    {
      "cell_type": "code",
      "execution_count": 4,
      "metadata": {
        "colab": {
          "base_uri": "https://localhost:8080/"
        },
        "id": "SOGCDYyTBisn",
        "outputId": "ba4a4699-1b80-4584-8ac6-196e67fa4d36"
      },
      "outputs": [
        {
          "output_type": "stream",
          "name": "stdout",
          "text": [
            "✅ Libraries imported dan Spark session initialized\n"
          ]
        }
      ],
      "source": [
        "# Step 1: Setup dan Import Libraries\n",
        "import pandas as pd\n",
        "import numpy as np\n",
        "from pyspark.sql import SparkSession\n",
        "from pyspark.sql.functions import col, lower, regexp_replace, split, array_remove\n",
        "from pyspark.sql.types import StringType, ArrayType\n",
        "from pyspark.ml.feature import HashingTF, IDF, Tokenizer, StopWordsRemover\n",
        "from pyspark.ml import Pipeline\n",
        "from pyspark.ml.classification import LogisticRegression\n",
        "import xgboost as xgb\n",
        "from sklearn.model_selection import GridSearchCV\n",
        "from sklearn.metrics import accuracy_score, precision_score, recall_score, f1_score, confusion_matrix\n",
        "import matplotlib.pyplot as plt\n",
        "import seaborn as sns\n",
        "import joblib\n",
        "import streamlit as st\n",
        "\n",
        "# Initialize Spark Session\n",
        "spark = SparkSession.builder \\\n",
        "    .appName(\"HoaxDetection\") \\\n",
        "    .config(\"spark.driver.memory\", \"4g\") \\\n",
        "    .config(\"spark.executor.memory\", \"4g\") \\\n",
        "    .getOrCreate()\n",
        "\n",
        "# Stopwords Bahasa Indonesia\n",
        "indonesian_stopwords = [\n",
        "    'yang', 'dan', 'di', 'ke', 'dari', 'dalam', 'untuk', 'pada', 'dengan', 'adalah',\n",
        "    'ini', 'itu', 'tidak', 'ada', 'akan', 'atau', 'juga', 'telah', 'dapat', 'sudah',\n",
        "    'bisa', 'harus', 'karena', 'sebagai', 'oleh', 'antara', 'mereka', 'kita', 'kami',\n",
        "    'saya', 'dia', 'ia', 'beliau', 'anda', 'kamu', 'kalian', 'mereka', 'kami', 'kita'\n",
        "]\n",
        "\n",
        "print(\"✅ Libraries imported dan Spark session initialized\")\n"
      ]
    },
    {
      "cell_type": "code",
      "execution_count": 5,
      "metadata": {
        "colab": {
          "base_uri": "https://localhost:8080/"
        },
        "id": "FuSwUAgcBC3V",
        "outputId": "12946829-bc40-494f-c796-6b9ba99f3a69"
      },
      "outputs": [
        {
          "output_type": "stream",
          "name": "stdout",
          "text": [
            "Dataset Info:\n",
            "Shape: (20164, 9)\n",
            "Columns: ['_id', 'query', 'title', 'link', 'time', 'content', 'Label', 'time_info', 'hoax_content']\n",
            "✅ Preprocessing selesai\n",
            "+--------------------+-----+\n",
            "|            features|label|\n",
            "+--------------------+-----+\n",
            "|(10000,[1228,1988...|    1|\n",
            "|(10000,[270,2398,...|    1|\n",
            "|(10000,[2480,2515...|    1|\n",
            "|(10000,[434,912,4...|    1|\n",
            "|(10000,[58,578,11...|    1|\n",
            "+--------------------+-----+\n",
            "only showing top 5 rows\n",
            "\n"
          ]
        }
      ],
      "source": [
        "from pyspark.ml import Pipeline\n",
        "from pyspark.ml.feature import Tokenizer, StopWordsRemover, HashingTF, IDF\n",
        "from pyspark.sql.functions import lower, regexp_replace, udf, col\n",
        "from pyspark.sql.types import ArrayType, StringType\n",
        "from Sastrawi.Stemmer.StemmerFactory import StemmerFactory\n",
        "import pandas as pd\n",
        "\n",
        "df_pandas = pd.read_csv('news_articles2.csv')\n",
        "\n",
        "\n",
        "print(\"Dataset Info:\")\n",
        "print(f\"Shape: {df_pandas.shape}\")\n",
        "print(f\"Columns: {df_pandas.columns.tolist()}\")\n",
        "\n",
        "# Pilih kolom title dan Label saja, buang kolom lainnya\n",
        "df_pandas = df_pandas[['title', 'Label']].copy()\n",
        "df_pandas = df_pandas.rename(columns={'Label': 'label'})\n",
        "\n",
        "df_pandas['label'] = df_pandas['label'].astype(int)\n",
        "\n",
        "\n",
        "\n",
        "# Convert ke Spark DataFrame\n",
        "spark_df = spark.createDataFrame(df_pandas)\n",
        "\n",
        "# Lowercase dan bersihkan karakter\n",
        "spark_df = spark_df.withColumn(\n",
        "    \"clean_text\",\n",
        "    lower(regexp_replace(col(\"title\"), \"[^a-zA-Z\\\\s]\", \"\"))\n",
        ")\n",
        "\n",
        "# Tokenisasi\n",
        "tokenizer = Tokenizer(inputCol=\"clean_text\", outputCol=\"words\")\n",
        "\n",
        "# Stopword removal\n",
        "stopwords_remover = StopWordsRemover(\n",
        "    inputCol=\"words\",\n",
        "    outputCol=\"filtered_words\",\n",
        "    stopWords=indonesian_stopwords\n",
        ")\n",
        "\n",
        "# Stemming pakai UDF\n",
        "factory = StemmerFactory()\n",
        "stemmer = factory.create_stemmer()\n",
        "\n",
        "def stem_tokens(tokens):\n",
        "    if tokens is not None:\n",
        "        return [stemmer.stem(token) for token in tokens]\n",
        "    else:\n",
        "        return []\n",
        "\n",
        "stem_udf = udf(stem_tokens, ArrayType(StringType()))\n",
        "\n",
        "# Setelah stopword removal, buat kolom stemmed\n",
        "df_filtered = stopwords_remover.transform(tokenizer.transform(spark_df))\n",
        "df_stemmed = df_filtered.withColumn(\"stemmed\", stem_udf(col(\"filtered_words\")))\n",
        "\n",
        "# TF-IDF pakai kolom stemmed\n",
        "hashingTF = HashingTF(inputCol=\"stemmed\", outputCol=\"rawFeatures\", numFeatures=10000)\n",
        "featurized_data = hashingTF.transform(df_stemmed)\n",
        "\n",
        "idf = IDF(inputCol=\"rawFeatures\", outputCol=\"features\")\n",
        "idf_model = idf.fit(featurized_data)\n",
        "rescaled_data = idf_model.transform(featurized_data)\n",
        "\n",
        "# Select final columns\n",
        "final_df = rescaled_data.select(\"features\", \"label\")\n",
        "\n",
        "print(\"✅ Preprocessing selesai\")\n",
        "final_df.show(5)\n"
      ]
    },
    {
      "cell_type": "code",
      "execution_count": 6,
      "metadata": {
        "colab": {
          "base_uri": "https://localhost:8080/"
        },
        "id": "mvSkBICxKw1I",
        "outputId": "51162b00-cf31-410f-c9dc-c296f7f58666"
      },
      "outputs": [
        {
          "output_type": "stream",
          "name": "stdout",
          "text": [
            "Training data: 16251 rows\n",
            "Test data: 3913 rows\n",
            "Converting Spark to Pandas...\n",
            "✅ Data splitting dan konversi selesai\n",
            "X_train shape: (16251, 10000)\n",
            "X_test shape: (3913, 10000)\n",
            "Train labels: [8104 8147]\n",
            "Test labels: [1980 1933]\n"
          ]
        }
      ],
      "source": [
        "# Step 3: Data Splitting dan Konversi ke Pandas\n",
        "\n",
        "# Split data 80% train, 20% test\n",
        "train_df, test_df = final_df.randomSplit([0.8, 0.2], seed=42)\n",
        "\n",
        "print(f\"Training data: {train_df.count()} rows\")\n",
        "print(f\"Test data: {test_df.count()} rows\")\n",
        "\n",
        "# Convert Spark DataFrame ke Pandas untuk XGBoost\n",
        "def spark_to_pandas_xy(spark_df):\n",
        "    \"\"\"Convert Spark DataFrame dengan features vector ke X, y pandas\"\"\"\n",
        "    rows = spark_df.collect()\n",
        "\n",
        "    # Extract features dan labels\n",
        "    X_data = []\n",
        "    y_data = []\n",
        "\n",
        "    for row in rows:\n",
        "        features = row.features.toArray()  # Convert SparseVector ke array\n",
        "        label = row.label\n",
        "        X_data.append(features)\n",
        "        y_data.append(label)\n",
        "\n",
        "    return np.array(X_data), np.array(y_data)\n",
        "\n",
        "print(\"Converting Spark to Pandas...\")\n",
        "X_train, y_train = spark_to_pandas_xy(train_df)\n",
        "X_test, y_test = spark_to_pandas_xy(test_df)\n",
        "\n",
        "print(\"✅ Data splitting dan konversi selesai\")\n",
        "print(f\"X_train shape: {X_train.shape}\")\n",
        "print(f\"X_test shape: {X_test.shape}\")\n",
        "print(f\"Train labels: {np.bincount(y_train)}\")\n",
        "print(f\"Test labels: {np.bincount(y_test)}\")"
      ]
    },
    {
      "cell_type": "code",
      "execution_count": 7,
      "metadata": {
        "id": "duWQ7V_ABLCO",
        "colab": {
          "base_uri": "https://localhost:8080/"
        },
        "outputId": "b9e10233-713e-405f-f922-e788f92861db"
      },
      "outputs": [
        {
          "output_type": "stream",
          "name": "stdout",
          "text": [
            "Starting hyperparameter tuning...\n",
            "Fitting 3 folds for each of 27 candidates, totalling 81 fits\n"
          ]
        },
        {
          "output_type": "stream",
          "name": "stderr",
          "text": [
            "/usr/local/lib/python3.11/dist-packages/joblib/externals/loky/process_executor.py:782: UserWarning: A worker stopped while some jobs were given to the executor. This can be caused by a too short worker timeout or by a memory leak.\n",
            "  warnings.warn(\n"
          ]
        },
        {
          "output_type": "stream",
          "name": "stdout",
          "text": [
            "✅ Best parameters: {'learning_rate': 0.3, 'max_depth': 7, 'n_estimators': 300}\n",
            "Best CV score: 0.8743\n",
            "\n",
            "📊 Model Performance:\n",
            "Accuracy: 0.9088\n",
            "Precision: 0.9178\n",
            "Recall: 0.8955\n",
            "F1-Score: 0.9065\n",
            "✅ Model dan config saved\n"
          ]
        }
      ],
      "source": [
        "# Step 4: XGBoost Training dan Hyperparameter Tuning\n",
        "\n",
        "# Hyperparameter tuning dengan GridSearchCV\n",
        "param_grid = {\n",
        "    'max_depth': [3, 5, 7],\n",
        "    'learning_rate': [0.1, 0.2, 0.3],\n",
        "    'n_estimators': [100, 200, 300]\n",
        "}\n",
        "\n",
        "# Initialize XGBoost classifier\n",
        "xgb_model = xgb.XGBClassifier(\n",
        "    objective='binary:logistic',\n",
        "    eval_metric='logloss',\n",
        "    random_state=42\n",
        ")\n",
        "\n",
        "# Grid search\n",
        "print(\"Starting hyperparameter tuning...\")\n",
        "grid_search = GridSearchCV(\n",
        "    xgb_model,\n",
        "    param_grid,\n",
        "    cv=3,\n",
        "    scoring='f1',\n",
        "    n_jobs=-1,\n",
        "    verbose=1\n",
        ")\n",
        "\n",
        "# Fit model\n",
        "grid_search.fit(X_train, y_train)\n",
        "\n",
        "# Best model\n",
        "best_model = grid_search.best_estimator_\n",
        "print(f\"✅ Best parameters: {grid_search.best_params_}\")\n",
        "print(f\"Best CV score: {grid_search.best_score_:.4f}\")\n",
        "\n",
        "# Predictions\n",
        "y_pred = best_model.predict(X_test)\n",
        "y_pred_proba = best_model.predict_proba(X_test)[:, 1]\n",
        "\n",
        "# Evaluasi\n",
        "accuracy = accuracy_score(y_test, y_pred)\n",
        "precision = precision_score(y_test, y_pred)\n",
        "recall = recall_score(y_test, y_pred)\n",
        "f1 = f1_score(y_test, y_pred)\n",
        "\n",
        "print(\"\\n📊 Model Performance:\")\n",
        "print(f\"Accuracy: {accuracy:.4f}\")\n",
        "print(f\"Precision: {precision:.4f}\")\n",
        "print(f\"Recall: {recall:.4f}\")\n",
        "print(f\"F1-Score: {f1:.4f}\")\n",
        "\n",
        "# Save model XGBoost saja (pipeline Spark tidak bisa di-pickle)\n",
        "joblib.dump(best_model, 'hoax_detection_model.pkl')\n",
        "\n",
        "# Save preprocessing components untuk recreate pipeline nanti\n",
        "preprocessing_config = {\n",
        "    'stopwords': indonesian_stopwords,\n",
        "    'num_features': 10000\n",
        "}\n",
        "joblib.dump(preprocessing_config, 'preprocessing_config.pkl')\n",
        "\n",
        "print(\"✅ Model dan config saved\")\n",
        "\n"
      ]
    },
    {
      "cell_type": "code",
      "execution_count": 8,
      "metadata": {
        "id": "ySLivbf5Qfyn",
        "colab": {
          "base_uri": "https://localhost:8080/",
          "height": 318
        },
        "outputId": "11459b2a-5b01-4512-d940-d5bb83eaadf7"
      },
      "outputs": [
        {
          "output_type": "display_data",
          "data": {
            "text/plain": [
              "<Figure size 1500x500 with 4 Axes>"
            ],
            "image/png": "[encoded data removed]"
          },
          "metadata": {}
        },
        {
          "output_type": "stream",
          "name": "stdout",
          "text": [
            "✅ Visualisasi selesai dan disimpan ke 'model_evaluation.png'\n"
          ]
        }
      ],
      "source": [
        "# Step 5: Visualisasi Hasil\n",
        "\n",
        "# 1. Confusion Matrix\n",
        "plt.figure(figsize=(15, 5))\n",
        "\n",
        "plt.subplot(1, 3, 1)\n",
        "cm = confusion_matrix(y_test, y_pred)\n",
        "sns.heatmap(cm, annot=True, fmt='d', cmap='Blues')\n",
        "plt.title('Confusion Matrix')\n",
        "plt.xlabel('Predicted')\n",
        "plt.ylabel('Actual')\n",
        "\n",
        "# 2. Feature Importance (Top 20)\n",
        "plt.subplot(1, 3, 2)\n",
        "feature_importance = best_model.feature_importances_\n",
        "top_indices = np.argsort(feature_importance)[-20:]\n",
        "plt.barh(range(20), feature_importance[top_indices])\n",
        "plt.title('Top 20 Feature Importance')\n",
        "plt.xlabel('Importance')\n",
        "\n",
        "# 3. Label Distribution\n",
        "plt.subplot(1, 3, 3)\n",
        "labels = ['Hoax', 'Fakta']\n",
        "counts = [np.sum(y_train == 0), np.sum(y_train == 1)]\n",
        "plt.pie(counts, labels=labels, autopct='%1.1f%%')\n",
        "plt.title('Label Distribution')\n",
        "\n",
        "plt.tight_layout()\n",
        "plt.savefig('model_evaluation.png', dpi=300, bbox_inches='tight')\n",
        "plt.show()\n",
        "\n",
        "print(\"✅ Visualisasi selesai dan disimpan ke 'model_evaluation.png'\")"
      ]
    }
  ],
  "metadata": {
    "colab": {
      "provenance": [],
      "toc_visible": true
    },
    "kernelspec": {
      "display_name": "Python 3",
      "name": "python3"
    },
    "language_info": {
      "name": "python"
    }
  },
  "nbformat": 4,
  "nbformat_minor": 0
}